{
 "cells": [
  {
   "cell_type": "code",
   "execution_count": 8,
   "metadata": {},
   "outputs": [
    {
     "name": "stdout",
     "output_type": "stream",
     "text": [
      "30\n",
      "enter lowerbound40\n",
      "enter upperbound50\n",
      "the number is not in range\n"
     ]
    }
   ],
   "source": [
    "## check whether the given number is in range or not\n",
    "def check(n):\n",
    "    lb=int(input(\"enter lowerbound\"))\n",
    "    ub=int(input(\"enter upperbound\"))\n",
    "    if(lb<=n)and(n<=ub):\n",
    "        print(\"the number is in range\")\n",
    "    else:\n",
    "        print(\"the number is not in range\")\n",
    "check(int(input()))"
   ]
  },
  {
   "cell_type": "code",
   "execution_count": 6,
   "metadata": {},
   "outputs": [
    {
     "name": "stdout",
     "output_type": "stream",
     "text": [
      "enter number45638\n",
      "5\n"
     ]
    }
   ],
   "source": [
    "# calculate the number of digits in a number\n",
    "def count(n):\n",
    "    n=int(input(\"enter number\"))\n",
    "    count=0\n",
    "    while n>0:\n",
    "        n=n//10\n",
    "        count+=1\n",
    "    print(count)\n",
    "count(45376)"
   ]
  },
  {
   "cell_type": "code",
   "execution_count": null,
   "metadata": {},
   "outputs": [],
   "source": [
    "#print the leap years with in the range\n",
    "def check():\n",
    "    lb=int(input(\"enter lowerbound\"))\n",
    "    ub=int(input(\"enter upperbound\"))\n",
    "    for i in range(lb,ub):\n",
    "        if(year%4==0)and (year%100!=0):\n",
    "            print(\"the number is leay yesr\")\n",
    "        else:\n",
    "            print(\"the number is not a leap\")\n",
    "check()"
   ]
  },
  {
   "cell_type": "code",
   "execution_count": null,
   "metadata": {},
   "outputs": [],
   "source": []
  }
 ],
 "metadata": {
  "kernelspec": {
   "display_name": "Python 3",
   "language": "python",
   "name": "python3"
  },
  "language_info": {
   "codemirror_mode": {
    "name": "ipython",
    "version": 3
   },
   "file_extension": ".py",
   "mimetype": "text/x-python",
   "name": "python",
   "nbconvert_exporter": "python",
   "pygments_lexer": "ipython3",
   "version": "3.6.5"
  }
 },
 "nbformat": 4,
 "nbformat_minor": 2
}
